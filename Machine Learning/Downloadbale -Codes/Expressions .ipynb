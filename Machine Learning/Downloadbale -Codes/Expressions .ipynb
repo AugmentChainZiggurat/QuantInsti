{
 "cells": [
  {
   "cell_type": "markdown",
   "metadata": {},
   "source": [
    "## Notebook Instructions\n",
    "\n",
    "<i> You can run the notebook document sequentially (one cell a time) by pressing <b> shift + enter </b>. While a cell is running, In [*] will display on the left. When it has been run, a number will display indicating the order in which it was run in the notebook. Example: In [8]: </i>\n",
    "\n",
    "<i> Enter edit mode by pressing <b> Enter </b> or using the mouse to click on a cell's editor area. Edit mode is indicated by a green cell border and a prompt showing in the editor area. </i>"
   ]
  },
  {
   "cell_type": "markdown",
   "metadata": {},
   "source": [
    "## Expressions\n",
    "\n",
    "'Expressions' are generally a combination of numbers, variables and operators. <br>\n",
    "<br>\n",
    "In this iPython notebook, we will make use of Expressions to understand the TVM concepts. "
   ]
  },
  {
   "cell_type": "markdown",
   "metadata": {},
   "source": [
    "### Future Value (FV)\n",
    "\n",
    "What would be the FV, if I have $1000 with me now and I will be investing it for 1 year, at an annual return of 5%? "
   ]
  },
  {
   "cell_type": "code",
   "execution_count": 52,
   "metadata": {},
   "outputs": [
    {
     "name": "stdout",
     "output_type": "stream",
     "text": [
      "1050.0\n"
     ]
    }
   ],
   "source": [
    "PV = 1000\n",
    "r = 0.05\n",
    "n = 1\n",
    "\n",
    "FV = PV * ((1+r) ** n) # Formula for calculating Future Value\n",
    "\n",
    "print (FV)"
   ]
  },
  {
   "cell_type": "markdown",
   "metadata": {},
   "source": [
    "### Present Value\n",
    "\n",
    "What would be the PV, if I have to discount $1050 at 5% annual rate for a period of 1 year?"
   ]
  },
  {
   "cell_type": "code",
   "execution_count": 53,
   "metadata": {},
   "outputs": [
    {
     "name": "stdout",
     "output_type": "stream",
     "text": [
      "1000.0\n"
     ]
    }
   ],
   "source": [
    "FV = 1050\n",
    "r = 0.05\n",
    "n = 1\n",
    "\n",
    "PV = FV / ((1 + r) ** n) # Formula for calculating Present Value\n",
    "\n",
    "print (PV)"
   ]
  },
  {
   "cell_type": "markdown",
   "metadata": {
    "collapsed": true
   },
   "source": [
    "### Compounding \n",
    "\n",
    "Assume that the 5% annual interest rate bond makes semiannual payments. That is, for an investment of $1000, you will get 25 dollars, after first 6 months and another 25 dollars after 1 year. The annual rate of interest is 5%. What would be the FV, if I hold the bond for 1 year? "
   ]
  },
  {
   "cell_type": "code",
   "execution_count": 54,
   "metadata": {},
   "outputs": [
    {
     "name": "stdout",
     "output_type": "stream",
     "text": [
      "1050.625\n"
     ]
    }
   ],
   "source": [
    "PV = 1000\n",
    "r = 0.05\n",
    "n = 2 # number of periods = 2 since bond makes semiannual payments\n",
    "t = 1 # number of years\n",
    "\n",
    "FV = PV * ((1+(r/n)) ** (n*t)) # Formula for compounding\n",
    "\n",
    "print (FV)"
   ]
  },
  {
   "cell_type": "markdown",
   "metadata": {},
   "source": [
    "### Annuity Payments\n",
    "\n",
    "What would be the annual periodic saving amount, if you want a lumsum of $9476.96 at the end of 3 years? The rate of return is 10%? <br>\n",
    "<br>\n",
    "(This is one of the required calculation from 'PDF : TVM Applications' unit) "
   ]
  },
  {
   "cell_type": "code",
   "execution_count": 5,
   "metadata": {},
   "outputs": [
    {
     "name": "stdout",
     "output_type": "stream",
     "text": [
      "1856.3710799004898\n"
     ]
    }
   ],
   "source": [
    "r = 0.1\n",
    "n = 4\n",
    "PV = 0\n",
    "FV = 9476.96\n",
    "\n",
    "AP = (FV * r) / (((1 + r) ** n - 1)*(1+r)) # Formula for Annuity payments, given Future Value\n",
    "\n",
    "print (AP)"
   ]
  },
  {
   "cell_type": "markdown",
   "metadata": {},
   "source": [
    "What would be the PV, given a cash outfolw of $2500 for a period of 5 years and rate of return being 10%?<br>\n",
    "<br>\n",
    "(This is one of the required calculation from 'PDF : TVM Applications' unit) "
   ]
  },
  {
   "cell_type": "code",
   "execution_count": 56,
   "metadata": {},
   "outputs": [
    {
     "name": "stdout",
     "output_type": "stream",
     "text": [
      "9476.96692352\n"
     ]
    }
   ],
   "source": [
    "r = 0.1\n",
    "n = 5\n",
    "AP = 2500\n",
    "\n",
    "PV = (AP * (1 - ((1 + r) ** -n))) / r # Formula for PV, given Annuity payments\n",
    "\n",
    "print (PV)"
   ]
  },
  {
   "cell_type": "markdown",
   "metadata": {},
   "source": [
    "What would be the PV, given a cash outflow of $30,000 for a period of 45 years and rate of return being 8%?<br>\n",
    "<br>\n",
    "(This is one of the required calculation from 'PDF : TVM Applications' unit) "
   ]
  },
  {
   "cell_type": "code",
   "execution_count": 57,
   "metadata": {},
   "outputs": [
    {
     "name": "stdout",
     "output_type": "stream",
     "text": [
      "363252.045095\n"
     ]
    }
   ],
   "source": [
    "r = 0.08\n",
    "n = 45\n",
    "AP1 = 30000\n",
    "\n",
    "PV = (AP1 * (1 - ((1 + r) ** -n))) / r # Formula for PV, given Annuity payments\n",
    "\n",
    "print (PV)"
   ]
  },
  {
   "cell_type": "markdown",
   "metadata": {},
   "source": [
    "What would be the annual saving amount (AP), if you want to save a lumpsum of $363252.045 in 25 years and rate of return being 15%?<br>\n",
    "<br>\n",
    "(This is one of the required calculation from 'PDF : TVM Applications' unit) "
   ]
  },
  {
   "cell_type": "code",
   "execution_count": 3,
   "metadata": {},
   "outputs": [
    {
     "name": "stdout",
     "output_type": "stream",
     "text": [
      "1484.4065248166885\n"
     ]
    }
   ],
   "source": [
    "r = 0.15\n",
    "n = 25\n",
    "PV = 0\n",
    "FV = 363252.045095\n",
    "\n",
    "AP = (FV * r) / (((1 + r) ** n - 1)*(1+r)) # Formula to calculate Annuity Payments, given FV\n",
    "\n",
    "#AP = (r * PV) / (1 - ((1 + r) ** -n)) # Formula to calculate Annuity Payments, given PV\n",
    "\n",
    "print (AP)"
   ]
  },
  {
   "cell_type": "markdown",
   "metadata": {},
   "source": [
    "These are some ways, one can use Expressions. <br>\n",
    "\n",
    "### Stay tuned for more on python."
   ]
  }
 ],
 "metadata": {
  "kernelspec": {
   "display_name": "Python 3",
   "language": "python",
   "name": "python3"
  },
  "language_info": {
   "codemirror_mode": {
    "name": "ipython",
    "version": 3
   },
   "file_extension": ".py",
   "mimetype": "text/x-python",
   "name": "python",
   "nbconvert_exporter": "python",
   "pygments_lexer": "ipython3",
   "version": "3.6.7"
  }
 },
 "nbformat": 4,
 "nbformat_minor": 2
}
