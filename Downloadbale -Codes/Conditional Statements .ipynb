{
 "cells": [
  {
   "cell_type": "markdown",
   "metadata": {},
   "source": [
    "## <span style=\"color:brown\">Notebook Instructions</span>\n",
    "\n",
    "<i> You can run the notebook document sequentially (one cell a time) by pressing <b> shift + enter </b>. While a cell is running, In [*] will display on the left. When it has been run, a number will display indicating the order in which it was run in the notebook. Example: In [8]: </i>\n",
    "\n",
    "<i> Enter edit mode by pressing <b> Enter </b> or using the mouse to click on a cell's editor area. Edit mode is indicated by a green cell border and a prompt showing in the editor area. </i>"
   ]
  },
  {
   "cell_type": "markdown",
   "metadata": {},
   "source": [
    "## If and elif\n",
    "\n",
    "We have seen the working of an 'if' statement in the previous video unit. Let us go through it once again.\n",
    "\n",
    "In python, the syntax for an ‘if' conditional statement is as follows:\n",
    "\n",
    "<pre>if (condition_1):<br>\n",
    "    statement_block_1<br>\n",
    "elif (condition_2):<br>\n",
    "    statement_block_2<br>\n",
    "elif (condition_3):<br>\n",
    "    statement_block_3<br></pre>\n",
    "<br>\n",
    "Let us consider an example to understand the working of an 'if' statement.\n"
   ]
  },
  {
   "cell_type": "code",
   "execution_count": 57,
   "metadata": {},
   "outputs": [
    {
     "name": "stdout",
     "output_type": "stream",
     "text": [
      "We will buy 500 shares of ABC\n"
     ]
    }
   ],
   "source": [
    "stock_price_ABC = 299 # Variable value\n",
    "\n",
    "if (stock_price_ABC < 300): # if condition_1 is true then...\n",
    "    print (\"We will buy 500 shares of ABC\") # statement_block_1 will get executed\n",
    "    \n",
    "elif (stock_price_ABC == 300): \n",
    "    print (\"We will buy 200 shares of ABC\") \n",
    "    \n",
    "elif  (stock_price_ABC > 300):\n",
    "    print (\"We will buy 150 shares of ABC\")"
   ]
  },
  {
   "cell_type": "markdown",
   "metadata": {},
   "source": [
    "If you change the value of the variable 'stock_price_ABC' to..."
   ]
  },
  {
   "cell_type": "code",
   "execution_count": 58,
   "metadata": {},
   "outputs": [
    {
     "name": "stdout",
     "output_type": "stream",
     "text": [
      "We will buy 200 shares of ABC\n"
     ]
    }
   ],
   "source": [
    "stock_price_ABC = 300 # then...\n",
    "\n",
    "if (stock_price_ABC < 300):\n",
    "    print (\"We will buy 500 shares of ABC\")\n",
    "    \n",
    "elif (stock_price_ABC == 300): # if condition_2 is true then...\n",
    "    print (\"We will buy 200 shares of ABC\") # statement_block_2 will get executed\n",
    "    \n",
    "elif  (stock_price_ABC > 300):\n",
    "    print (\"We will buy 150 shares of ABC\")"
   ]
  },
  {
   "cell_type": "markdown",
   "metadata": {},
   "source": [
    "If you change the value of the variable 'stock_price_ABC' to..."
   ]
  },
  {
   "cell_type": "code",
   "execution_count": 59,
   "metadata": {},
   "outputs": [
    {
     "name": "stdout",
     "output_type": "stream",
     "text": [
      "We will buy 150 shares of ABC\n"
     ]
    }
   ],
   "source": [
    "stock_price_ABC = 301 # then...\n",
    "\n",
    "if (stock_price_ABC < 300):\n",
    "    print (\"We will buy 500 shares of ABC\")\n",
    "    \n",
    "elif (stock_price_ABC == 300):\n",
    "    print (\"We will buy 200 shares of ABC\")\n",
    "    \n",
    "elif  (stock_price_ABC > 300): # if condition_3 is true then...\n",
    "    print (\"We will buy 150 shares of ABC\") # statement_block_3 will get executed"
   ]
  },
  {
   "cell_type": "markdown",
   "metadata": {},
   "source": [
    "## If and else \n",
    "\n",
    "If - else block of conditional statements is similar to the working of 'if' statements. If the 'if' condition is <b>true</b>, then the statements inside the 'if' block will be executed. If the 'if condition is <b> false</b>, then the statements inside the 'else' block will be executed. \n",
    "\n",
    "In python, the syntax for an ‘if else' conditional statement is as follows:\n",
    "\n",
    "<pre>if (condition_1):<br>\n",
    "    statement_block_1<br>\n",
    "else:<br>\n",
    "    statement_block_2<br></pre>\n",
    "<br>\n",
    "Let us consider an example to understand the working of an 'if else' statement.\n"
   ]
  },
  {
   "cell_type": "code",
   "execution_count": 60,
   "metadata": {},
   "outputs": [
    {
     "name": "stdout",
     "output_type": "stream",
     "text": [
      "We will sell the stock and book the profit\n"
     ]
    }
   ],
   "source": [
    "stock_price_ABC = 300\n",
    "\n",
    "if (stock_price_ABC > 250): # if condition 1 is true then....\n",
    "    print (\"We will sell the stock and book the profit\") # this block of code will be executed\n",
    "    \n",
    "else:\n",
    "    print (\"We will keep buying the stock\")\n",
    "    "
   ]
  },
  {
   "cell_type": "markdown",
   "metadata": {},
   "source": [
    "If you change the value of the variable 'stock_price_ABC' to..."
   ]
  },
  {
   "cell_type": "code",
   "execution_count": 61,
   "metadata": {},
   "outputs": [
    {
     "name": "stdout",
     "output_type": "stream",
     "text": [
      " We will keep buying the stock\n"
     ]
    }
   ],
   "source": [
    "stock_price_ABC = 200 # then...\n",
    "\n",
    "if (stock_price_ABC > 250): # if condition 1 is false then....\n",
    "    print (\"We will sell the stock and book the profit\")\n",
    "    \n",
    "else:\n",
    "    print (\" We will keep buying the stock\") # this block of code will be executed"
   ]
  },
  {
   "cell_type": "markdown",
   "metadata": {},
   "source": [
    "### <span style=\"color:brown\"> In the upcoming iPython Notebook:</span>\n",
    "\n",
    "We will understand about <b>Loops.</b>"
   ]
  }
 ],
 "metadata": {
  "kernelspec": {
   "display_name": "Python 2",
   "language": "python",
   "name": "python2"
  },
  "language_info": {
   "codemirror_mode": {
    "name": "ipython",
    "version": 2
   },
   "file_extension": ".py",
   "mimetype": "text/x-python",
   "name": "python",
   "nbconvert_exporter": "python",
   "pygments_lexer": "ipython2",
   "version": "2.7.14"
  }
 },
 "nbformat": 4,
 "nbformat_minor": 2
}
