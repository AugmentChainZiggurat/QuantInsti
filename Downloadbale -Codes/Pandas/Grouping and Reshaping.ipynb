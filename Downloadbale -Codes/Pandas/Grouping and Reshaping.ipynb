{
 "cells": [
  {
   "cell_type": "markdown",
   "metadata": {},
   "source": [
    "### <span style=\"color:brown\">Notebook Instructions</span>\n",
    "\n",
    "<i> You can run the notebook document sequentially (one cell a time) by pressing <b> shift + enter </b>. While a cell is running, In [*] will display on the left. When it has been run, a number will display indicating the order in which it was run in the notebook. Example: In [8]: </i>\n",
    "\n",
    "<i> Enter edit mode by pressing <b> Enter </b> or using the mouse to click on a cell's editor area. Edit mode is indicated by a green cell border and a prompt showing in the editor area. </i>"
   ]
  },
  {
   "cell_type": "markdown",
   "metadata": {},
   "source": [
    "## Pandas 'Groupby'\n",
    "\n",
    "Any groupby operation involves one of the following operations on the original dataframe/object. They are:\n",
    "<br>\n",
    "1. <b>Splitting</b> the data into groups based on some criteria.<br>\n",
    "<br>\n",
    "2. <b>Applying</b> a function to each group seperately.<br>\n",
    "<br>\n",
    "3. <b>Combining</b> the results into a single data frame.<br>\n",
    "<br>\n",
    "Splitting the data is pretty straight forward. What adds value to this split is the 'Apply' step. This makes 'Groupby' function interesting. In the apply step, you may wish to do one of the following: <br>\n",
    "<br>\n",
    "a. Aggregation − Computing a summary statistic. Eg: Compute group sums or means.<br>\n",
    "<br>\n",
    "b. Transformation − perform some group-specific operation. Eg: Standarizing data (computing zscore) within the group.<br> \n",
    "<br>\n",
    "c. Filtration − discarding the data with some condition.<br> \n",
    "<br>\n",
    "Let us now create a DataFrame object and perform all the operations on it"
   ]
  },
  {
   "cell_type": "code",
   "execution_count": 17,
   "metadata": {},
   "outputs": [
    {
     "data": {
      "text/html": [
       "<div>\n",
       "<style scoped>\n",
       "    .dataframe tbody tr th:only-of-type {\n",
       "        vertical-align: middle;\n",
       "    }\n",
       "\n",
       "    .dataframe tbody tr th {\n",
       "        vertical-align: top;\n",
       "    }\n",
       "\n",
       "    .dataframe thead th {\n",
       "        text-align: right;\n",
       "    }\n",
       "</style>\n",
       "<table border=\"1\" class=\"dataframe\">\n",
       "  <thead>\n",
       "    <tr style=\"text-align: right;\">\n",
       "      <th></th>\n",
       "      <th>Amount Invested</th>\n",
       "      <th>Company</th>\n",
       "      <th>MarketCap</th>\n",
       "      <th>Sector</th>\n",
       "      <th>Share Price</th>\n",
       "    </tr>\n",
       "  </thead>\n",
       "  <tbody>\n",
       "    <tr>\n",
       "      <th>0</th>\n",
       "      <td>24000</td>\n",
       "      <td>Infosys</td>\n",
       "      <td>Large Cap</td>\n",
       "      <td>IT</td>\n",
       "      <td>1120</td>\n",
       "    </tr>\n",
       "    <tr>\n",
       "      <th>1</th>\n",
       "      <td>16000</td>\n",
       "      <td>Dabur</td>\n",
       "      <td>Large Cap</td>\n",
       "      <td>FMCG</td>\n",
       "      <td>341</td>\n",
       "    </tr>\n",
       "    <tr>\n",
       "      <th>2</th>\n",
       "      <td>50000</td>\n",
       "      <td>DHFL</td>\n",
       "      <td>Mid Cap</td>\n",
       "      <td>Finance</td>\n",
       "      <td>610</td>\n",
       "    </tr>\n",
       "    <tr>\n",
       "      <th>3</th>\n",
       "      <td>23000</td>\n",
       "      <td>Divis Lab</td>\n",
       "      <td>Mid Cap</td>\n",
       "      <td>Pharma</td>\n",
       "      <td>1123</td>\n",
       "    </tr>\n",
       "    <tr>\n",
       "      <th>4</th>\n",
       "      <td>45000</td>\n",
       "      <td>Lupin</td>\n",
       "      <td>Mid Cap</td>\n",
       "      <td>Pharma</td>\n",
       "      <td>741</td>\n",
       "    </tr>\n",
       "    <tr>\n",
       "      <th>5</th>\n",
       "      <td>12000</td>\n",
       "      <td>Ruchira Papers</td>\n",
       "      <td>Small Cap</td>\n",
       "      <td>FMCG</td>\n",
       "      <td>185</td>\n",
       "    </tr>\n",
       "    <tr>\n",
       "      <th>6</th>\n",
       "      <td>52000</td>\n",
       "      <td>Britianna</td>\n",
       "      <td>Mid Cap</td>\n",
       "      <td>FMCG</td>\n",
       "      <td>5351</td>\n",
       "    </tr>\n",
       "    <tr>\n",
       "      <th>7</th>\n",
       "      <td>18000</td>\n",
       "      <td>Persistent Systems</td>\n",
       "      <td>Small Cap</td>\n",
       "      <td>IT</td>\n",
       "      <td>720</td>\n",
       "    </tr>\n",
       "    <tr>\n",
       "      <th>8</th>\n",
       "      <td>5000</td>\n",
       "      <td>Bajaj Finance</td>\n",
       "      <td>Large Cap</td>\n",
       "      <td>Finance</td>\n",
       "      <td>1937</td>\n",
       "    </tr>\n",
       "    <tr>\n",
       "      <th>9</th>\n",
       "      <td>3500</td>\n",
       "      <td>DLF</td>\n",
       "      <td>Mid Cap</td>\n",
       "      <td>Real Estate</td>\n",
       "      <td>217</td>\n",
       "    </tr>\n",
       "  </tbody>\n",
       "</table>\n",
       "</div>"
      ],
      "text/plain": [
       "   Amount Invested             Company  MarketCap       Sector  Share Price\n",
       "0            24000             Infosys  Large Cap           IT         1120\n",
       "1            16000               Dabur  Large Cap         FMCG          341\n",
       "2            50000                DHFL    Mid Cap      Finance          610\n",
       "3            23000           Divis Lab    Mid Cap       Pharma         1123\n",
       "4            45000               Lupin    Mid Cap       Pharma          741\n",
       "5            12000      Ruchira Papers  Small Cap         FMCG          185\n",
       "6            52000           Britianna    Mid Cap         FMCG         5351\n",
       "7            18000  Persistent Systems  Small Cap           IT          720\n",
       "8             5000       Bajaj Finance  Large Cap      Finance         1937\n",
       "9             3500                 DLF    Mid Cap  Real Estate          217"
      ]
     },
     "execution_count": 17,
     "metadata": {},
     "output_type": "execute_result"
    }
   ],
   "source": [
    "# Creating a data frame\n",
    "\n",
    "import pandas as pd\n",
    "\n",
    "my_portfolio = {'Sector': ['IT', 'FMCG', 'Finance', 'Pharma', 'Pharma',\n",
    "                          'FMCG', 'FMCG', 'IT', 'Finance', 'Real Estate'],\n",
    "            \n",
    "            'Company':   ['Infosys', 'Dabur', 'DHFL', 'Divis Lab', 'Lupin',\n",
    "                         'Ruchira Papers', 'Britianna','Persistent Systems','Bajaj Finance', 'DLF'],\n",
    "            \n",
    "            'MarketCap': ['Large Cap','Large Cap','Mid Cap','Mid Cap','Mid Cap',\n",
    "                         'Small Cap','Mid Cap','Small Cap','Large Cap','Mid Cap'],\n",
    "            \n",
    "            'Share Price': [1120,341,610,1123,741,185,5351,720,1937,217],\n",
    "                \n",
    "            'Amount Invested': [24000,16000,50000,23000,45000,12000,52000,18000,5000,3500]}\n",
    "\n",
    "mp = pd.DataFrame(my_portfolio)\n",
    "\n",
    "mp"
   ]
  },
  {
   "cell_type": "markdown",
   "metadata": {},
   "source": [
    "### View Groups"
   ]
  },
  {
   "cell_type": "code",
   "execution_count": 18,
   "metadata": {},
   "outputs": [
    {
     "name": "stdout",
     "output_type": "stream",
     "text": [
      "{'Large Cap': Int64Index([0, 1, 8], dtype='int64'), 'Small Cap': Int64Index([5, 7], dtype='int64'), 'Mid Cap': Int64Index([2, 3, 4, 6, 9], dtype='int64')}\n"
     ]
    }
   ],
   "source": [
    "print (mp.groupby('MarketCap').groups)"
   ]
  },
  {
   "cell_type": "markdown",
   "metadata": {},
   "source": [
    "There are 3 Groups formed, if we group it by <b>'Market Cap'</b>. They are:<br>\n",
    "<br>\n",
    "Group 1: 'Large Cap' (3 companies at index 0,1,8)<br>\n",
    "Group 2: 'Mid Cap' (5 companies at index 2,3,4,6,9)<br>\n",
    "Group 3: 'Small Cap' (2 companies at index 5,7)<br>"
   ]
  },
  {
   "cell_type": "code",
   "execution_count": 19,
   "metadata": {},
   "outputs": [
    {
     "name": "stdout",
     "output_type": "stream",
     "text": [
      "{'FMCG': Int64Index([1, 5, 6], dtype='int64'), 'IT': Int64Index([0, 7], dtype='int64'), 'Pharma': Int64Index([3, 4], dtype='int64'), 'Finance': Int64Index([2, 8], dtype='int64'), 'Real Estate': Int64Index([9], dtype='int64')}\n"
     ]
    }
   ],
   "source": [
    "# Understand this Grouping\n",
    "\n",
    "print (mp.groupby('Sector').groups)"
   ]
  },
  {
   "cell_type": "markdown",
   "metadata": {},
   "source": [
    "There are 5 Groups formed, if we group it by <b>'Sector'</b>. They are:<br>\n",
    "<br>\n",
    "Group 1: 'FMCG' (3 companies at index 1,5,6)<br>\n",
    "Group 2: 'IT' (2 companies at index 0,7)<br>\n",
    "Group 3: 'Pharma' (2 companies at index 3,4)<br>\n",
    "Group 4: 'Finance' (2 companies at index 2,8)<br>\n",
    "Group 5: 'Real Estate' (1 company at index 9)<br>"
   ]
  },
  {
   "cell_type": "code",
   "execution_count": 20,
   "metadata": {},
   "outputs": [
    {
     "name": "stdout",
     "output_type": "stream",
     "text": [
      "{('Large Cap', 'FMCG'): Int64Index([1], dtype='int64'), ('Mid Cap', 'FMCG'): Int64Index([6], dtype='int64'), ('Large Cap', 'IT'): Int64Index([0], dtype='int64'), ('Small Cap', 'FMCG'): Int64Index([5], dtype='int64'), ('Mid Cap', 'Real Estate'): Int64Index([9], dtype='int64'), ('Small Cap', 'IT'): Int64Index([7], dtype='int64'), ('Mid Cap', 'Pharma'): Int64Index([3, 4], dtype='int64'), ('Large Cap', 'Finance'): Int64Index([8], dtype='int64'), ('Mid Cap', 'Finance'): Int64Index([2], dtype='int64')}\n"
     ]
    }
   ],
   "source": [
    "# Group by with multiple columns\n",
    "\n",
    "print (mp.groupby(['MarketCap','Sector']).groups)"
   ]
  },
  {
   "cell_type": "markdown",
   "metadata": {},
   "source": [
    "There are 8 Groups formed, if we group it by <b>'Sector'</b> and <b>'MarketCap'</b>. They are:<br>\n",
    "<br>\n",
    "Group 1: 'Large Cap, FMCG' (1 company at index 1)<br>\n",
    "Group 2: 'Mid Cap, FMCG' (1 company at index 6)<br>\n",
    "Group 3: 'Large Cap, IT' (1 company at index 0)<br>\n",
    "Group 4: 'Small Cap, FMCG' (1 company at index 5)<br>\n",
    "Group 5: 'Mid Cap, Real Estate' (1 company at index 9)<br>\n",
    "Group 6: 'Small Cap, IT' (1 company at index 7)<br>\n",
    "Group 7: 'Mid Cap, Pharma' (2 companies at index 3,4)<br>\n",
    "Group 8: 'Mid Cap, Finance' (1 company at index 2)<br>"
   ]
  },
  {
   "cell_type": "markdown",
   "metadata": {},
   "source": [
    "### Iterating through groups"
   ]
  },
  {
   "cell_type": "code",
   "execution_count": 21,
   "metadata": {},
   "outputs": [
    {
     "name": "stdout",
     "output_type": "stream",
     "text": [
      "FMCG\n",
      "   Amount Invested         Company  MarketCap Sector  Share Price\n",
      "1            16000           Dabur  Large Cap   FMCG          341\n",
      "5            12000  Ruchira Papers  Small Cap   FMCG          185\n",
      "6            52000       Britianna    Mid Cap   FMCG         5351\n",
      "Finance\n",
      "   Amount Invested        Company  MarketCap   Sector  Share Price\n",
      "2            50000           DHFL    Mid Cap  Finance          610\n",
      "8             5000  Bajaj Finance  Large Cap  Finance         1937\n",
      "IT\n",
      "   Amount Invested             Company  MarketCap Sector  Share Price\n",
      "0            24000             Infosys  Large Cap     IT         1120\n",
      "7            18000  Persistent Systems  Small Cap     IT          720\n",
      "Pharma\n",
      "   Amount Invested    Company MarketCap  Sector  Share Price\n",
      "3            23000  Divis Lab   Mid Cap  Pharma         1123\n",
      "4            45000      Lupin   Mid Cap  Pharma          741\n",
      "Real Estate\n",
      "   Amount Invested Company MarketCap       Sector  Share Price\n",
      "9             3500     DLF   Mid Cap  Real Estate          217\n"
     ]
    }
   ],
   "source": [
    "# A better way to visualise\n",
    "\n",
    "grouped = mp.groupby('Sector')\n",
    "\n",
    "for name,group in grouped: \n",
    "    print (name)\n",
    "    print (group)"
   ]
  },
  {
   "cell_type": "code",
   "execution_count": 22,
   "metadata": {},
   "outputs": [
    {
     "name": "stdout",
     "output_type": "stream",
     "text": [
      "Large Cap\n",
      "   Amount Invested        Company  MarketCap   Sector  Share Price\n",
      "0            24000        Infosys  Large Cap       IT         1120\n",
      "1            16000          Dabur  Large Cap     FMCG          341\n",
      "8             5000  Bajaj Finance  Large Cap  Finance         1937\n",
      "Mid Cap\n",
      "   Amount Invested    Company MarketCap       Sector  Share Price\n",
      "2            50000       DHFL   Mid Cap      Finance          610\n",
      "3            23000  Divis Lab   Mid Cap       Pharma         1123\n",
      "4            45000      Lupin   Mid Cap       Pharma          741\n",
      "6            52000  Britianna   Mid Cap         FMCG         5351\n",
      "9             3500        DLF   Mid Cap  Real Estate          217\n",
      "Small Cap\n",
      "   Amount Invested             Company  MarketCap Sector  Share Price\n",
      "5            12000      Ruchira Papers  Small Cap   FMCG          185\n",
      "7            18000  Persistent Systems  Small Cap     IT          720\n"
     ]
    }
   ],
   "source": [
    "# Just so that you feel comfortable, go through this line of code too\n",
    "\n",
    "grouped = mp.groupby('MarketCap')\n",
    "\n",
    "for name,group in grouped:  # We will learn 'for' loop in further sections. It is usually used for iterations \n",
    "    print (name)\n",
    "    print (group)"
   ]
  },
  {
   "cell_type": "markdown",
   "metadata": {},
   "source": [
    "### Select a group"
   ]
  },
  {
   "cell_type": "code",
   "execution_count": 23,
   "metadata": {},
   "outputs": [
    {
     "name": "stdout",
     "output_type": "stream",
     "text": [
      "   Amount Invested    Company MarketCap       Sector  Share Price\n",
      "2            50000       DHFL   Mid Cap      Finance          610\n",
      "3            23000  Divis Lab   Mid Cap       Pharma         1123\n",
      "4            45000      Lupin   Mid Cap       Pharma          741\n",
      "6            52000  Britianna   Mid Cap         FMCG         5351\n",
      "9             3500        DLF   Mid Cap  Real Estate          217\n"
     ]
    }
   ],
   "source": [
    "import pandas as pd\n",
    "\n",
    "my_portfolio = {'Sector': ['IT', 'FMCG', 'Finance', 'Pharma', 'Pharma',\n",
    "                          'FMCG', 'FMCG', 'IT', 'Finance', 'Real Estate'],\n",
    "            \n",
    "            'Company':   ['Infosys', 'Dabur', 'DHFL', 'Divis Lab', 'Lupin',\n",
    "                         'Ruchira Papers', 'Britianna','Persistent Systems','Bajaj Finance', 'DLF'],\n",
    "            \n",
    "            'MarketCap': ['Large Cap','Large Cap','Mid Cap','Mid Cap','Mid Cap',\n",
    "                         'Small Cap','Mid Cap','Small Cap','Large Cap','Mid Cap'],\n",
    "            \n",
    "            'Share Price': [1120,341,610,1123,741,185,5351,720,1937,217],\n",
    "                \n",
    "            'Amount Invested': [24000,16000,50000,23000,45000,12000,52000,18000,5000,3500]}\n",
    "\n",
    "mp = pd.DataFrame(my_portfolio)\n",
    "\n",
    "grouped = mp.groupby('MarketCap')\n",
    "\n",
    "print (grouped.get_group('Mid Cap'))"
   ]
  },
  {
   "cell_type": "markdown",
   "metadata": {},
   "source": [
    "### Aggregations"
   ]
  },
  {
   "cell_type": "code",
   "execution_count": 24,
   "metadata": {},
   "outputs": [
    {
     "name": "stdout",
     "output_type": "stream",
     "text": [
      "MarketCap\n",
      "Large Cap    15000\n",
      "Mid Cap      34700\n",
      "Small Cap    15000\n",
      "Name: Amount Invested, dtype: int64\n"
     ]
    }
   ],
   "source": [
    "import numpy as np\n",
    "\n",
    "grouped = mp.groupby('MarketCap')\n",
    "\n",
    "print (grouped['Amount Invested'].agg(np.mean))"
   ]
  },
  {
   "cell_type": "markdown",
   "metadata": {},
   "source": [
    "What does this mean?<br>\n",
    "<br>\n",
    "This means that on an average, we have invested Rs. 15000 per script in Large Cap, Rs. 34700 per script in Mid Cap and Rs. 15000 per script in Small Cap"
   ]
  },
  {
   "cell_type": "code",
   "execution_count": 25,
   "metadata": {},
   "outputs": [
    {
     "name": "stdout",
     "output_type": "stream",
     "text": [
      "           Amount Invested  Company  Sector  Share Price\n",
      "MarketCap                                               \n",
      "Large Cap                3        3       3            3\n",
      "Mid Cap                  5        5       5            5\n",
      "Small Cap                2        2       2            2\n"
     ]
    }
   ],
   "source": [
    "grouped = mp.groupby('MarketCap')\n",
    "\n",
    "print (grouped.agg(np.size))"
   ]
  },
  {
   "cell_type": "markdown",
   "metadata": {},
   "source": [
    "What does this mean? <br>\n",
    "\n",
    "This just shows the size of the group."
   ]
  },
  {
   "cell_type": "code",
   "execution_count": 26,
   "metadata": {},
   "outputs": [
    {
     "name": "stdout",
     "output_type": "stream",
     "text": [
      "              sum   mean\n",
      "MarketCap               \n",
      "Large Cap   45000  15000\n",
      "Mid Cap    173500  34700\n",
      "Small Cap   30000  15000\n"
     ]
    }
   ],
   "source": [
    "# Applying multiple aggregation functions at once\n",
    "\n",
    "grouped = mp.groupby('MarketCap')\n",
    "\n",
    "print (grouped['Amount Invested'].agg([np.sum, np.mean]))"
   ]
  },
  {
   "cell_type": "markdown",
   "metadata": {},
   "source": [
    "What does this mean? <br>\n",
    "<br>\n",
    "This means that the 'total amount' invested in a particular sector is the 'sum' and 'average amount per script' invested in that sector is the 'mean' value."
   ]
  },
  {
   "cell_type": "markdown",
   "metadata": {},
   "source": [
    "### Transformations"
   ]
  },
  {
   "cell_type": "code",
   "execution_count": 27,
   "metadata": {},
   "outputs": [
    {
     "name": "stdout",
     "output_type": "stream",
     "text": [
      "   Amount Invested             Company  MarketCap       Sector  Share Price\n",
      "0            24000             Infosys  Large Cap           IT         1120\n",
      "1            16000               Dabur  Large Cap         FMCG          341\n",
      "2            50000                DHFL    Mid Cap      Finance          610\n",
      "3            23000           Divis Lab    Mid Cap       Pharma         1123\n",
      "4            45000               Lupin    Mid Cap       Pharma          741\n",
      "5            12000      Ruchira Papers  Small Cap         FMCG          185\n",
      "6            52000           Britianna    Mid Cap         FMCG         5351\n",
      "7            18000  Persistent Systems  Small Cap           IT          720\n",
      "8             5000       Bajaj Finance  Large Cap      Finance         1937\n",
      "9             3500                 DLF    Mid Cap  Real Estate          217\n",
      "   Amount Invested  Share Price\n",
      "0         0.943456    -0.015872\n",
      "1         0.104828    -0.991970\n",
      "2         0.731522    -0.471596\n",
      "3        -0.559399    -0.229280\n",
      "4         0.492462    -0.409718\n",
      "5        -0.707107    -0.707107\n",
      "6         0.827145     1.767825\n",
      "7         0.707107     0.707107\n",
      "8        -1.048285     1.007841\n",
      "9        -1.491731    -0.657231\n"
     ]
    }
   ],
   "source": [
    "import pandas as pd\n",
    "\n",
    "my_portfolio = {'Sector': ['IT', 'FMCG', 'Finance', 'Pharma', 'Pharma',\n",
    "                          'FMCG', 'FMCG', 'IT', 'Finance', 'Real Estate'],\n",
    "            \n",
    "            'Company':   ['Infosys', 'Dabur', 'DHFL', 'Divis Lab', 'Lupin',\n",
    "                         'Ruchira Papers', 'Britianna','Persistent Systems','Bajaj Finance', 'DLF'],\n",
    "            \n",
    "            'MarketCap': ['Large Cap','Large Cap','Mid Cap','Mid Cap','Mid Cap',\n",
    "                         'Small Cap','Mid Cap','Small Cap','Large Cap','Mid Cap'],\n",
    "            \n",
    "            'Share Price': [1120,341,610,1123,741,185,5351,720,1937,217],\n",
    "                \n",
    "            'Amount Invested': [24000,16000,50000,23000,45000,12000,52000,18000,5000,3500]}\n",
    "\n",
    "mp = pd.DataFrame(my_portfolio)\n",
    "\n",
    "print (mp)\n",
    "\n",
    "grouped = mp.groupby('MarketCap')\n",
    "\n",
    "z_score = lambda x: (x - x.mean()) / x.std()\n",
    "\n",
    "print (grouped.transform(z_score))"
   ]
  },
  {
   "cell_type": "markdown",
   "metadata": {},
   "source": [
    "### Filteration"
   ]
  },
  {
   "cell_type": "code",
   "execution_count": 28,
   "metadata": {},
   "outputs": [
    {
     "name": "stdout",
     "output_type": "stream",
     "text": [
      "   Amount Invested        Company  MarketCap       Sector  Share Price\n",
      "0            24000        Infosys  Large Cap           IT         1120\n",
      "1            16000          Dabur  Large Cap         FMCG          341\n",
      "2            50000           DHFL    Mid Cap      Finance          610\n",
      "3            23000      Divis Lab    Mid Cap       Pharma         1123\n",
      "4            45000          Lupin    Mid Cap       Pharma          741\n",
      "6            52000      Britianna    Mid Cap         FMCG         5351\n",
      "8             5000  Bajaj Finance  Large Cap      Finance         1937\n",
      "9             3500            DLF    Mid Cap  Real Estate          217\n"
     ]
    }
   ],
   "source": [
    "print (mp.groupby('MarketCap').filter(lambda x: len(x)>= 3))"
   ]
  },
  {
   "cell_type": "markdown",
   "metadata": {},
   "source": [
    "What does this mean?<br>\n",
    "<br>\n",
    "It will filter out the Groups that have less than 3 companies in that particular group. "
   ]
  },
  {
   "cell_type": "markdown",
   "metadata": {},
   "source": [
    "### Merging/Joining "
   ]
  },
  {
   "cell_type": "code",
   "execution_count": 29,
   "metadata": {},
   "outputs": [],
   "source": [
    "import pandas as pd\n",
    "\n",
    "\n",
    "left_df = pd.DataFrame({\n",
    "         'id':[1,2,3,4,5],\n",
    "         'Company': ['Infosys', 'SBI', 'Asian Paints', 'Maruti', 'Sun Pharma'],\n",
    "         'Sector':['IT','Banks','Paints and Varnishes','Auto','Pharma']})\n",
    "\n",
    "right_df = pd.DataFrame(\n",
    "         {'id':[1,2,3,4,5],\n",
    "         'Company': ['NTPC', 'TCS', 'Lupin', 'ICICI', 'M&M'],\n",
    "         'Sector':['Power','IT','Pharma','Banks','Auto']})\n"
   ]
  },
  {
   "cell_type": "code",
   "execution_count": 30,
   "metadata": {},
   "outputs": [
    {
     "data": {
      "text/html": [
       "<div>\n",
       "<style scoped>\n",
       "    .dataframe tbody tr th:only-of-type {\n",
       "        vertical-align: middle;\n",
       "    }\n",
       "\n",
       "    .dataframe tbody tr th {\n",
       "        vertical-align: top;\n",
       "    }\n",
       "\n",
       "    .dataframe thead th {\n",
       "        text-align: right;\n",
       "    }\n",
       "</style>\n",
       "<table border=\"1\" class=\"dataframe\">\n",
       "  <thead>\n",
       "    <tr style=\"text-align: right;\">\n",
       "      <th></th>\n",
       "      <th>Company</th>\n",
       "      <th>Sector</th>\n",
       "      <th>id</th>\n",
       "    </tr>\n",
       "  </thead>\n",
       "  <tbody>\n",
       "    <tr>\n",
       "      <th>0</th>\n",
       "      <td>Infosys</td>\n",
       "      <td>IT</td>\n",
       "      <td>1</td>\n",
       "    </tr>\n",
       "    <tr>\n",
       "      <th>1</th>\n",
       "      <td>SBI</td>\n",
       "      <td>Banks</td>\n",
       "      <td>2</td>\n",
       "    </tr>\n",
       "    <tr>\n",
       "      <th>2</th>\n",
       "      <td>Asian Paints</td>\n",
       "      <td>Paints and Varnishes</td>\n",
       "      <td>3</td>\n",
       "    </tr>\n",
       "    <tr>\n",
       "      <th>3</th>\n",
       "      <td>Maruti</td>\n",
       "      <td>Auto</td>\n",
       "      <td>4</td>\n",
       "    </tr>\n",
       "    <tr>\n",
       "      <th>4</th>\n",
       "      <td>Sun Pharma</td>\n",
       "      <td>Pharma</td>\n",
       "      <td>5</td>\n",
       "    </tr>\n",
       "  </tbody>\n",
       "</table>\n",
       "</div>"
      ],
      "text/plain": [
       "        Company                Sector  id\n",
       "0       Infosys                    IT   1\n",
       "1           SBI                 Banks   2\n",
       "2  Asian Paints  Paints and Varnishes   3\n",
       "3        Maruti                  Auto   4\n",
       "4    Sun Pharma                Pharma   5"
      ]
     },
     "execution_count": 30,
     "metadata": {},
     "output_type": "execute_result"
    }
   ],
   "source": [
    "left_df"
   ]
  },
  {
   "cell_type": "code",
   "execution_count": 31,
   "metadata": {},
   "outputs": [
    {
     "data": {
      "text/html": [
       "<div>\n",
       "<style scoped>\n",
       "    .dataframe tbody tr th:only-of-type {\n",
       "        vertical-align: middle;\n",
       "    }\n",
       "\n",
       "    .dataframe tbody tr th {\n",
       "        vertical-align: top;\n",
       "    }\n",
       "\n",
       "    .dataframe thead th {\n",
       "        text-align: right;\n",
       "    }\n",
       "</style>\n",
       "<table border=\"1\" class=\"dataframe\">\n",
       "  <thead>\n",
       "    <tr style=\"text-align: right;\">\n",
       "      <th></th>\n",
       "      <th>Company</th>\n",
       "      <th>Sector</th>\n",
       "      <th>id</th>\n",
       "    </tr>\n",
       "  </thead>\n",
       "  <tbody>\n",
       "    <tr>\n",
       "      <th>0</th>\n",
       "      <td>NTPC</td>\n",
       "      <td>Power</td>\n",
       "      <td>1</td>\n",
       "    </tr>\n",
       "    <tr>\n",
       "      <th>1</th>\n",
       "      <td>TCS</td>\n",
       "      <td>IT</td>\n",
       "      <td>2</td>\n",
       "    </tr>\n",
       "    <tr>\n",
       "      <th>2</th>\n",
       "      <td>Lupin</td>\n",
       "      <td>Pharma</td>\n",
       "      <td>3</td>\n",
       "    </tr>\n",
       "    <tr>\n",
       "      <th>3</th>\n",
       "      <td>ICICI</td>\n",
       "      <td>Banks</td>\n",
       "      <td>4</td>\n",
       "    </tr>\n",
       "    <tr>\n",
       "      <th>4</th>\n",
       "      <td>M&amp;M</td>\n",
       "      <td>Auto</td>\n",
       "      <td>5</td>\n",
       "    </tr>\n",
       "  </tbody>\n",
       "</table>\n",
       "</div>"
      ],
      "text/plain": [
       "  Company  Sector  id\n",
       "0    NTPC   Power   1\n",
       "1     TCS      IT   2\n",
       "2   Lupin  Pharma   3\n",
       "3   ICICI   Banks   4\n",
       "4     M&M    Auto   5"
      ]
     },
     "execution_count": 31,
     "metadata": {},
     "output_type": "execute_result"
    }
   ],
   "source": [
    "right_df"
   ]
  },
  {
   "cell_type": "code",
   "execution_count": 32,
   "metadata": {},
   "outputs": [
    {
     "name": "stdout",
     "output_type": "stream",
     "text": [
      "      Company_x              Sector_x  id Company_y Sector_y\n",
      "0       Infosys                    IT   1      NTPC    Power\n",
      "1           SBI                 Banks   2       TCS       IT\n",
      "2  Asian Paints  Paints and Varnishes   3     Lupin   Pharma\n",
      "3        Maruti                  Auto   4     ICICI    Banks\n",
      "4    Sun Pharma                Pharma   5       M&M     Auto\n"
     ]
    }
   ],
   "source": [
    "# Merge 2 DF on a key\n",
    "\n",
    "print (pd.merge(left_df,right_df, on='id'))"
   ]
  },
  {
   "cell_type": "code",
   "execution_count": 33,
   "metadata": {},
   "outputs": [
    {
     "name": "stdout",
     "output_type": "stream",
     "text": [
      "    Company_x  Sector  id_x Company_y  id_y\n",
      "0     Infosys      IT     1       TCS     2\n",
      "1         SBI   Banks     2     ICICI     4\n",
      "2      Maruti    Auto     4       M&M     5\n",
      "3  Sun Pharma  Pharma     5     Lupin     3\n"
     ]
    }
   ],
   "source": [
    "print (pd.merge(left_df,right_df, on='Sector'))"
   ]
  },
  {
   "cell_type": "code",
   "execution_count": 34,
   "metadata": {},
   "outputs": [
    {
     "name": "stdout",
     "output_type": "stream",
     "text": [
      "Empty DataFrame\n",
      "Columns: [Company, Sector, id_x, id_y]\n",
      "Index: []\n"
     ]
    }
   ],
   "source": [
    "# Merge 2 DFs on multiple keys\n",
    "\n",
    "print (pd.merge(left_df,right_df,on=['Sector','Company']))"
   ]
  },
  {
   "cell_type": "code",
   "execution_count": 35,
   "metadata": {},
   "outputs": [
    {
     "name": "stdout",
     "output_type": "stream",
     "text": [
      "      Company_x                Sector  id_x Company_y  id_y\n",
      "0       Infosys                    IT     1       TCS   2.0\n",
      "1           SBI                 Banks     2     ICICI   4.0\n",
      "2  Asian Paints  Paints and Varnishes     3       NaN   NaN\n",
      "3        Maruti                  Auto     4       M&M   5.0\n",
      "4    Sun Pharma                Pharma     5     Lupin   3.0\n"
     ]
    }
   ],
   "source": [
    "# Merge using 'how' argument\n",
    "\n",
    "# Left join\n",
    "\n",
    "print (pd.merge(left_df, right_df, on='Sector', how='left'))"
   ]
  },
  {
   "cell_type": "code",
   "execution_count": 36,
   "metadata": {},
   "outputs": [
    {
     "name": "stdout",
     "output_type": "stream",
     "text": [
      "      Company_x                Sector  id_x Company_y  id_y\n",
      "0       Infosys                    IT   1.0       TCS   2.0\n",
      "1           SBI                 Banks   2.0     ICICI   4.0\n",
      "2  Asian Paints  Paints and Varnishes   3.0       NaN   NaN\n",
      "3        Maruti                  Auto   4.0       M&M   5.0\n",
      "4    Sun Pharma                Pharma   5.0     Lupin   3.0\n",
      "5           NaN                 Power   NaN      NTPC   1.0\n"
     ]
    }
   ],
   "source": [
    "# Right join\n",
    "\n",
    "print (pd.merge(left_df, right_df, on='Sector', how='right'))"
   ]
  },
  {
   "cell_type": "code",
   "execution_count": 37,
   "metadata": {},
   "outputs": [
    {
     "name": "stdout",
     "output_type": "stream",
     "text": [
      "      Company_x                Sector  id_x Company_y  id_y\n",
      "0       Infosys                    IT   1.0       TCS   2.0\n",
      "1           SBI                 Banks   2.0     ICICI   4.0\n",
      "2  Asian Paints  Paints and Varnishes   3.0       NaN   NaN\n",
      "3        Maruti                  Auto   4.0       M&M   5.0\n",
      "4    Sun Pharma                Pharma   5.0     Lupin   3.0\n",
      "5           NaN                 Power   NaN      NTPC   1.0\n"
     ]
    }
   ],
   "source": [
    "# Outer Join\n",
    "\n",
    "print (pd.merge(left_df, right_df, on='Sector', how='outer'))"
   ]
  },
  {
   "cell_type": "code",
   "execution_count": 38,
   "metadata": {},
   "outputs": [
    {
     "name": "stdout",
     "output_type": "stream",
     "text": [
      "    Company_x  Sector  id_x Company_y  id_y\n",
      "0     Infosys      IT     1       TCS     2\n",
      "1         SBI   Banks     2     ICICI     4\n",
      "2      Maruti    Auto     4       M&M     5\n",
      "3  Sun Pharma  Pharma     5     Lupin     3\n"
     ]
    }
   ],
   "source": [
    "# Inner Join\n",
    "\n",
    "print (pd.merge(left_df, right_df, on='Sector', how='inner'))"
   ]
  },
  {
   "cell_type": "markdown",
   "metadata": {},
   "source": [
    "### Concatenation"
   ]
  },
  {
   "cell_type": "code",
   "execution_count": 39,
   "metadata": {},
   "outputs": [
    {
     "name": "stdout",
     "output_type": "stream",
     "text": [
      "        Company                Sector  id\n",
      "0       Infosys                    IT   1\n",
      "1           SBI                 Banks   2\n",
      "2  Asian Paints  Paints and Varnishes   3\n",
      "3        Maruti                  Auto   4\n",
      "4    Sun Pharma                Pharma   5\n",
      "0          NTPC                 Power   1\n",
      "1           TCS                    IT   2\n",
      "2         Lupin                Pharma   3\n",
      "3         ICICI                 Banks   4\n",
      "4           M&M                  Auto   5\n"
     ]
    }
   ],
   "source": [
    "print (pd.concat([left_df,right_df]))"
   ]
  },
  {
   "cell_type": "code",
   "execution_count": 40,
   "metadata": {},
   "outputs": [
    {
     "name": "stdout",
     "output_type": "stream",
     "text": [
      "          Company                Sector  id\n",
      "x 0       Infosys                    IT   1\n",
      "  1           SBI                 Banks   2\n",
      "  2  Asian Paints  Paints and Varnishes   3\n",
      "  3        Maruti                  Auto   4\n",
      "  4    Sun Pharma                Pharma   5\n",
      "y 0          NTPC                 Power   1\n",
      "  1           TCS                    IT   2\n",
      "  2         Lupin                Pharma   3\n",
      "  3         ICICI                 Banks   4\n",
      "  4           M&M                  Auto   5\n"
     ]
    }
   ],
   "source": [
    "print (pd.concat([left_df, right_df],keys=['x','y']))"
   ]
  },
  {
   "cell_type": "code",
   "execution_count": 41,
   "metadata": {},
   "outputs": [
    {
     "name": "stdout",
     "output_type": "stream",
     "text": [
      "        Company                Sector  id\n",
      "0       Infosys                    IT   1\n",
      "1           SBI                 Banks   2\n",
      "2  Asian Paints  Paints and Varnishes   3\n",
      "3        Maruti                  Auto   4\n",
      "4    Sun Pharma                Pharma   5\n",
      "5          NTPC                 Power   1\n",
      "6           TCS                    IT   2\n",
      "7         Lupin                Pharma   3\n",
      "8         ICICI                 Banks   4\n",
      "9           M&M                  Auto   5\n"
     ]
    }
   ],
   "source": [
    "print (pd.concat([left_df,right_df],keys=['x','y'],ignore_index=True))"
   ]
  },
  {
   "cell_type": "code",
   "execution_count": 42,
   "metadata": {},
   "outputs": [
    {
     "name": "stdout",
     "output_type": "stream",
     "text": [
      "        Company                Sector  id Company  Sector  id\n",
      "0       Infosys                    IT   1    NTPC   Power   1\n",
      "1           SBI                 Banks   2     TCS      IT   2\n",
      "2  Asian Paints  Paints and Varnishes   3   Lupin  Pharma   3\n",
      "3        Maruti                  Auto   4   ICICI   Banks   4\n",
      "4    Sun Pharma                Pharma   5     M&M    Auto   5\n"
     ]
    }
   ],
   "source": [
    "print (pd.concat([left_df,right_df],axis=1))"
   ]
  },
  {
   "cell_type": "code",
   "execution_count": 43,
   "metadata": {},
   "outputs": [
    {
     "name": "stdout",
     "output_type": "stream",
     "text": [
      "        Company                Sector  id\n",
      "0       Infosys                    IT   1\n",
      "1           SBI                 Banks   2\n",
      "2  Asian Paints  Paints and Varnishes   3\n",
      "3        Maruti                  Auto   4\n",
      "4    Sun Pharma                Pharma   5\n",
      "0          NTPC                 Power   1\n",
      "1           TCS                    IT   2\n",
      "2         Lupin                Pharma   3\n",
      "3         ICICI                 Banks   4\n",
      "4           M&M                  Auto   5\n"
     ]
    }
   ],
   "source": [
    "# Concatenating using append\n",
    "\n",
    "print (left_df.append(right_df))"
   ]
  },
  {
   "cell_type": "code",
   "execution_count": 44,
   "metadata": {},
   "outputs": [
    {
     "name": "stdout",
     "output_type": "stream",
     "text": [
      "        Company                Sector  id\n",
      "0       Infosys                    IT   1\n",
      "1           SBI                 Banks   2\n",
      "2  Asian Paints  Paints and Varnishes   3\n",
      "3        Maruti                  Auto   4\n",
      "4    Sun Pharma                Pharma   5\n",
      "0          NTPC                 Power   1\n",
      "1           TCS                    IT   2\n",
      "2         Lupin                Pharma   3\n",
      "3         ICICI                 Banks   4\n",
      "4           M&M                  Auto   5\n",
      "0       Infosys                    IT   1\n",
      "1           SBI                 Banks   2\n",
      "2  Asian Paints  Paints and Varnishes   3\n",
      "3        Maruti                  Auto   4\n",
      "4    Sun Pharma                Pharma   5\n",
      "0          NTPC                 Power   1\n",
      "1           TCS                    IT   2\n",
      "2         Lupin                Pharma   3\n",
      "3         ICICI                 Banks   4\n",
      "4           M&M                  Auto   5\n"
     ]
    }
   ],
   "source": [
    "\n",
    "print (left_df.append([right_df,left_df, right_df]))"
   ]
  },
  {
   "cell_type": "markdown",
   "metadata": {},
   "source": [
    "### Thank you!"
   ]
  }
 ],
 "metadata": {
  "kernelspec": {
   "display_name": "Python 3",
   "language": "python",
   "name": "python3"
  },
  "language_info": {
   "codemirror_mode": {
    "name": "ipython",
    "version": 3
   },
   "file_extension": ".py",
   "mimetype": "text/x-python",
   "name": "python",
   "nbconvert_exporter": "python",
   "pygments_lexer": "ipython3",
   "version": "3.7.0"
  }
 },
 "nbformat": 4,
 "nbformat_minor": 2
}
